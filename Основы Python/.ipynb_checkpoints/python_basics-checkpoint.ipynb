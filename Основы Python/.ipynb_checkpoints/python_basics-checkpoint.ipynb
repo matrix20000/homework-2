{
 "cells": [
  {
   "cell_type": "markdown",
   "metadata": {},
   "source": [
    "**Задание 1**. Даны 2 строки: *long_phrase* и *short_phrase*. \n",
    "Напишите код, который проверяет действительно ли длинная фраза *long_phrase* длиннее короткой *short_phrase*. И выводит *True* или *False* в зависимости от результата сравнения."
   ]
  },
  {
   "cell_type": "code",
   "execution_count": 1,
   "metadata": {},
   "outputs": [],
   "source": [
    "long_phrase = 'Насколько проще было бы писать программы, если бы не заказчики'\n",
    "short_phrase = '640Кб должно хватить для любых задач. Билл Гейтс (по легенде)'"
   ]
  },
  {
   "cell_type": "code",
   "execution_count": 4,
   "metadata": {},
   "outputs": [
    {
     "data": {
      "text/plain": [
       "True"
      ]
     },
     "execution_count": 4,
     "metadata": {},
     "output_type": "execute_result"
    }
   ],
   "source": [
    "len(long_phrase) > len(short_phrase)"
   ]
  },
  {
   "cell_type": "markdown",
   "metadata": {},
   "source": [
    "**Задание 2**. Дано значение объема файла в байтах (*в мегабайте 2^20 байт*). Напишите перевод этого значения в мегабайты в формате: \"*Объем файла равен 213.68Mb*\"."
   ]
  },
  {
   "cell_type": "code",
   "execution_count": 2,
   "metadata": {},
   "outputs": [
    {
     "name": "stdout",
     "output_type": "stream",
     "text": [
      "Размер файла в байтах: 155\n",
      "Объем файла равен: 0.00014781951904296875 Mb\n"
     ]
    }
   ],
   "source": [
    " user_input = int(input('Размер файла в байтах: '))\n",
    "a = user_input / 2**20\n",
    "print ('Объем файла равен:', a, 'Mb')"
   ]
  },
  {
   "cell_type": "markdown",
   "metadata": {},
   "source": [
    "**Задание 3**. Разработать приложение для определения знака зодиака по дате рождения. Пример:\n",
    "\n",
    "Введите месяц: март\n",
    "\n",
    "Введите число: 6\n",
    "\n",
    "Вывод:\n",
    "Рыбы"
   ]
  },
  {
   "cell_type": "code",
   "execution_count": 24,
   "metadata": {},
   "outputs": [
    {
     "name": "stdout",
     "output_type": "stream",
     "text": [
      "Введите месяц: сентябрь\n",
      "Введите число: 25\n",
      "Весы\n"
     ]
    }
   ],
   "source": [
    "user_m = input('Введите месяц: ')\n",
    "user_d = int(input('Введите число: '))\n",
    "if user_m == 'март' and (21 <= user_d <= 31) or user_m == 'апрель' and (1 <= user_d <= 19):\n",
    "    print('Овен')\n",
    "elif user_m == 'апрель' and (20 <= user_d <= 30) or user_m == 'май' and (1 <= user_d <= 20):\n",
    "    print('Телец')\n",
    "elif user_m == 'май' and (21 <= user_d <= 31) or user_m == 'июнь' and (1 <= user_d <= 21):\n",
    "    print('Близнецы')\n",
    "elif user_m == 'июнь' and (22 <= user_d <= 30) or user_m == 'июль' and (1 <= user_d <= 22):\n",
    "    print('Рак')    \n",
    "elif user_m == 'июль' and (23 <= user_d <= 31) or user_m == 'август' and (1 <= user_d <= 22):\n",
    "    print('Лев')\n",
    "elif user_m == 'август' and (23 <= user_d <= 31) or user_m == 'сентябрь' and (1 <= user_d <= 22):\n",
    "    print('Дева')\n",
    "elif user_m == 'сентябрь' and (23 <= user_d <= 30) or user_m == 'октябрь' and (1 <= user_d <= 23):\n",
    "    print('Весы')\n",
    "elif user_m == 'октябрь' and (24 <= user_d <= 31) or user_m == 'ноябрь' and (1 <= user_d <= 22):\n",
    "    print('Скорпион')  \n",
    "elif user_m == 'ноябрь' and (23 <= user_d <= 30) or user_m == 'декабрь' and (1 <= user_d <= 21):\n",
    "    print('Стрелец')    \n",
    "elif user_m == 'декабрь' and (22 <= user_d <= 31) or user_m == 'январь' and (1 <= user_d <= 20):\n",
    "    print('Козерог')   \n",
    "elif user_m == 'январь' and (21 <= user_d <= 31) or user_m == 'февраль' and (1 <= user_d <= 18):\n",
    "    print('Водолей')    \n",
    "elif user_m == 'февраль' and (19 <= user_d <= 29) or user_m == 'март' and (1 <= user_d <= 20):\n",
    "    print('Рыбы')    \n",
    "else:\n",
    "    print('Укажите корректный месяц и дату')"
   ]
  },
  {
   "cell_type": "markdown",
   "metadata": {},
   "source": [
    "**Задание 4**. Нужно разработать приложение для финансового планирования.\n",
    "Приложение учитывает сколько уходит на ипотеку, \"на жизнь\" и сколько нужно отложить на пенсию.\n",
    "Пользователь вводит:\n",
    "- заработанную плату в месяц.\n",
    "- сколько процентов от ЗП уходит на ипотеку.\n",
    "- сколько процентов от ЗП уходит \"на жизнь\".\n",
    "- сколько раз приходит премия в год.\n",
    "\n",
    "Остальная часть заработанной платы откладывается на пенсию.\n",
    "\n",
    "Также пользователю приходит премия в размере зарплаты, от которой половина уходит на отпуск, а вторая половина откладывается.\n",
    "\n",
    "Программа должна учитывать сколько премий было в год.\n",
    "\n",
    "Нужно вывести сколько денег тратит пользователь на ипотеку и сколько он накопит за год.\n",
    "\n",
    "Пример:\n",
    "\n",
    "Введите заработанную плату в месяц: 100000\n",
    "\n",
    "Введите сколько процентов уходит на ипотеку: 30\n",
    "\n",
    "Введите сколько процентов уходит на жизнь: 50\n",
    "\n",
    "Введите количество премий за год: 2\n",
    "\n",
    "Вывод:\n",
    "На ипотеку было потрачено: 360000 рублей\n",
    "Было накоплено: 340000 рублей"
   ]
  },
  {
   "cell_type": "code",
   "execution_count": 23,
   "metadata": {},
   "outputs": [
    {
     "name": "stdout",
     "output_type": "stream",
     "text": [
      "Введите заработанную плату в месяц (руб.): 100000\n",
      "Сколько процентов от ЗП уходит на ипотеку (%): 30\n",
      "Сколько процентов от ЗП уходит \"на жизнь\" (%): 50\n",
      "Сколько раз приходит премия в год: 2\n",
      "На ипотеку было потрачено:  360000.0 рублей. Было накоплено:  340000.0 руюлей.\n"
     ]
    }
   ],
   "source": [
    "user_salary = int(input('Введите заработанную плату в месяц (руб.): '))\n",
    "user_mortgage = int(input('Сколько процентов от ЗП уходит на ипотеку (%): '))\n",
    "user_life = int(input('Сколько процентов от ЗП уходит \"на жизнь\" (%): '))\n",
    "user_bonus = int(input('Сколько раз приходит премия в год: '))\n",
    "bonus = user_bonus * user_salary / 2\n",
    "pension = user_salary / 100 * (100 - (user_mortgage + user_life)) * 12 + bonus\n",
    "mortgage = user_salary / 100 * user_mortgage * 12\n",
    "print('На ипотеку было потрачено: ', mortgage, 'рублей.', 'Было накоплено: ', pension, 'руюлей.')\n",
    "\n",
    "\n",
    "\n",
    "\n"
   ]
  }
 ],
 "metadata": {
  "kernelspec": {
   "display_name": "Python 3",
   "language": "python",
   "name": "python3"
  },
  "language_info": {
   "codemirror_mode": {
    "name": "ipython",
    "version": 3
   },
   "file_extension": ".py",
   "mimetype": "text/x-python",
   "name": "python",
   "nbconvert_exporter": "python",
   "pygments_lexer": "ipython3",
   "version": "3.7.4"
  }
 },
 "nbformat": 4,
 "nbformat_minor": 2
}
